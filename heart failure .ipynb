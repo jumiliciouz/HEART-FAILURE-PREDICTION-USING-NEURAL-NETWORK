{
 "cells": [
  {
   "cell_type": "code",
   "execution_count": 9,
   "id": "ee8077c0",
   "metadata": {},
   "outputs": [],
   "source": [
    "import pandas as pd\n",
    "import numpy as np \n",
    "from torch import nn, optim\n",
    "import torch.nn.functional as F\n",
    "import torch.utils.data as data\n",
    "import torch\n",
    "from sklearn.metrics import confusion_matrix, accuracy_score, ConfusionMatrixDisplay\n",
    "import matplotlib.pyplot as plt\n",
    "import seaborn as sns"
   ]
  },
  {
   "cell_type": "code",
   "execution_count": 10,
   "id": "55ea4890",
   "metadata": {},
   "outputs": [],
   "source": [
    "df = pd.read_csv('/content/heart_failure_clinical_records_dataset.csv')"
   ]
  },
  {
   "cell_type": "code",
   "execution_count": 11,
   "id": "91c6567f",
   "metadata": {},
   "outputs": [
    {
     "data": {
      "text/html": [
       "<div>\n",
       "<style scoped>\n",
       "    .dataframe tbody tr th:only-of-type {\n",
       "        vertical-align: middle;\n",
       "    }\n",
       "\n",
       "    .dataframe tbody tr th {\n",
       "        vertical-align: top;\n",
       "    }\n",
       "\n",
       "    .dataframe thead th {\n",
       "        text-align: right;\n",
       "    }\n",
       "</style>\n",
       "<table border=\"1\" class=\"dataframe\">\n",
       "  <thead>\n",
       "    <tr style=\"text-align: right;\">\n",
       "      <th></th>\n",
       "      <th>age</th>\n",
       "      <th>anaemia</th>\n",
       "      <th>creatinine_phosphokinase</th>\n",
       "      <th>diabetes</th>\n",
       "      <th>ejection_fraction</th>\n",
       "      <th>high_blood_pressure</th>\n",
       "      <th>platelets</th>\n",
       "      <th>serum_creatinine</th>\n",
       "      <th>serum_sodium</th>\n",
       "      <th>sex</th>\n",
       "      <th>smoking</th>\n",
       "      <th>time</th>\n",
       "      <th>DEATH_EVENT</th>\n",
       "    </tr>\n",
       "  </thead>\n",
       "  <tbody>\n",
       "    <tr>\n",
       "      <th>0</th>\n",
       "      <td>75.0</td>\n",
       "      <td>0</td>\n",
       "      <td>582</td>\n",
       "      <td>0</td>\n",
       "      <td>20</td>\n",
       "      <td>1</td>\n",
       "      <td>265000.00</td>\n",
       "      <td>1.9</td>\n",
       "      <td>130</td>\n",
       "      <td>1</td>\n",
       "      <td>0</td>\n",
       "      <td>4</td>\n",
       "      <td>1</td>\n",
       "    </tr>\n",
       "    <tr>\n",
       "      <th>1</th>\n",
       "      <td>55.0</td>\n",
       "      <td>0</td>\n",
       "      <td>7861</td>\n",
       "      <td>0</td>\n",
       "      <td>38</td>\n",
       "      <td>0</td>\n",
       "      <td>263358.03</td>\n",
       "      <td>1.1</td>\n",
       "      <td>136</td>\n",
       "      <td>1</td>\n",
       "      <td>0</td>\n",
       "      <td>6</td>\n",
       "      <td>1</td>\n",
       "    </tr>\n",
       "    <tr>\n",
       "      <th>2</th>\n",
       "      <td>65.0</td>\n",
       "      <td>0</td>\n",
       "      <td>146</td>\n",
       "      <td>0</td>\n",
       "      <td>20</td>\n",
       "      <td>0</td>\n",
       "      <td>162000.00</td>\n",
       "      <td>1.3</td>\n",
       "      <td>129</td>\n",
       "      <td>1</td>\n",
       "      <td>1</td>\n",
       "      <td>7</td>\n",
       "      <td>1</td>\n",
       "    </tr>\n",
       "    <tr>\n",
       "      <th>3</th>\n",
       "      <td>50.0</td>\n",
       "      <td>1</td>\n",
       "      <td>111</td>\n",
       "      <td>0</td>\n",
       "      <td>20</td>\n",
       "      <td>0</td>\n",
       "      <td>210000.00</td>\n",
       "      <td>1.9</td>\n",
       "      <td>137</td>\n",
       "      <td>1</td>\n",
       "      <td>0</td>\n",
       "      <td>7</td>\n",
       "      <td>1</td>\n",
       "    </tr>\n",
       "    <tr>\n",
       "      <th>4</th>\n",
       "      <td>65.0</td>\n",
       "      <td>1</td>\n",
       "      <td>160</td>\n",
       "      <td>1</td>\n",
       "      <td>20</td>\n",
       "      <td>0</td>\n",
       "      <td>327000.00</td>\n",
       "      <td>2.7</td>\n",
       "      <td>116</td>\n",
       "      <td>0</td>\n",
       "      <td>0</td>\n",
       "      <td>8</td>\n",
       "      <td>1</td>\n",
       "    </tr>\n",
       "  </tbody>\n",
       "</table>\n",
       "</div>"
      ],
      "text/plain": [
       "    age  anaemia  creatinine_phosphokinase  diabetes  ejection_fraction  \\\n",
       "0  75.0        0                       582         0                 20   \n",
       "1  55.0        0                      7861         0                 38   \n",
       "2  65.0        0                       146         0                 20   \n",
       "3  50.0        1                       111         0                 20   \n",
       "4  65.0        1                       160         1                 20   \n",
       "\n",
       "   high_blood_pressure  platelets  serum_creatinine  serum_sodium  sex  \\\n",
       "0                    1  265000.00               1.9           130    1   \n",
       "1                    0  263358.03               1.1           136    1   \n",
       "2                    0  162000.00               1.3           129    1   \n",
       "3                    0  210000.00               1.9           137    1   \n",
       "4                    0  327000.00               2.7           116    0   \n",
       "\n",
       "   smoking  time  DEATH_EVENT  \n",
       "0        0     4            1  \n",
       "1        0     6            1  \n",
       "2        1     7            1  \n",
       "3        0     7            1  \n",
       "4        0     8            1  "
      ]
     },
     "execution_count": 11,
     "metadata": {},
     "output_type": "execute_result"
    }
   ],
   "source": [
    "df.head()"
   ]
  },
  {
   "cell_type": "code",
   "execution_count": 12,
   "id": "c4bc8456",
   "metadata": {},
   "outputs": [
    {
     "name": "stdout",
     "output_type": "stream",
     "text": [
      "<class 'pandas.core.frame.DataFrame'>\n",
      "RangeIndex: 299 entries, 0 to 298\n",
      "Data columns (total 13 columns):\n",
      " #   Column                    Non-Null Count  Dtype  \n",
      "---  ------                    --------------  -----  \n",
      " 0   age                       299 non-null    float64\n",
      " 1   anaemia                   299 non-null    int64  \n",
      " 2   creatinine_phosphokinase  299 non-null    int64  \n",
      " 3   diabetes                  299 non-null    int64  \n",
      " 4   ejection_fraction         299 non-null    int64  \n",
      " 5   high_blood_pressure       299 non-null    int64  \n",
      " 6   platelets                 299 non-null    float64\n",
      " 7   serum_creatinine          299 non-null    float64\n",
      " 8   serum_sodium              299 non-null    int64  \n",
      " 9   sex                       299 non-null    int64  \n",
      " 10  smoking                   299 non-null    int64  \n",
      " 11  time                      299 non-null    int64  \n",
      " 12  DEATH_EVENT               299 non-null    int64  \n",
      "dtypes: float64(3), int64(10)\n",
      "memory usage: 30.5 KB\n"
     ]
    }
   ],
   "source": [
    "df.info()"
   ]
  },
  {
   "cell_type": "code",
   "execution_count": 13,
   "id": "632b3608",
   "metadata": {},
   "outputs": [
    {
     "data": {
      "text/plain": [
       "<function matplotlib.pyplot.subplots(nrows=1, ncols=1, *, sharex=False, sharey=False, squeeze=True, subplot_kw=None, gridspec_kw=None, **fig_kw)>"
      ]
     },
     "execution_count": 13,
     "metadata": {},
     "output_type": "execute_result"
    },
    {
     "data": {
      "text/plain": [
       "<Figure size 720x720 with 0 Axes>"
      ]
     },
     "metadata": {},
     "output_type": "display_data"
    }
   ],
   "source": [
    "plt.figure(figsize = (10,10))\n",
    "plt.subplots"
   ]
  },
  {
   "cell_type": "code",
   "execution_count": 15,
   "id": "3f71ead7",
   "metadata": {},
   "outputs": [
    {
     "data": {
      "image/png": "[encoded data removed]",
      "text/plain": [
       "<Figure size 432x288 with 1 Axes>"
      ]
     },
     "metadata": {
      "needs_background": "light"
     },
     "output_type": "display_data"
    }
   ],
   "source": [
    "df.columns\n",
    "sns.histplot(df['platelets'], kde = True)\n",
    "plt.savefig('platelets.jpg')\n"
   ]
  },
  {
   "cell_type": "code",
   "execution_count": 16,
   "id": "90e953b8",
   "metadata": {},
   "outputs": [
    {
     "name": "stderr",
     "output_type": "stream",
     "text": [
      "C:\\Users\\personal\\anaconda3\\lib\\site-packages\\seaborn\\_decorators.py:36: FutureWarning: Pass the following variable as a keyword arg: x. From version 0.12, the only valid positional argument will be `data`, and passing other arguments without an explicit keyword will result in an error or misinterpretation.\n",
      "  warnings.warn(\n"
     ]
    },
    {
     "data": {
      "image/png": "[encoded data removed]",
      "text/plain": [
       "<Figure size 432x288 with 1 Axes>"
      ]
     },
     "metadata": {
      "needs_background": "light"
     },
     "output_type": "display_data"
    }
   ],
   "source": [
    "sns.countplot(df['high_blood_pressure'])\n",
    "plt.savefig('hbp_c.jpg')"
   ]
  },
  {
   "cell_type": "code",
   "execution_count": 17,
   "id": "162ef93b",
   "metadata": {},
   "outputs": [
    {
     "data": {
      "image/png": "[encoded data removed]",
      "text/plain": [
       "<Figure size 432x288 with 1 Axes>"
      ]
     },
     "metadata": {
      "needs_background": "light"
     },
     "output_type": "display_data"
    }
   ],
   "source": [
    "sns.barplot(x = 'high_blood_pressure', y = 'platelets', hue = 'DEATH_EVENT', data = df)\n",
    "plt.savefig('hbp.jpg')"
   ]
  },
  {
   "cell_type": "code",
   "execution_count": 19,
   "id": "f9e15d9c",
   "metadata": {},
   "outputs": [
    {
     "data": {
      "image/png": "[encoded data removed]",
      "text/plain": [
       "<Figure size 432x288 with 1 Axes>"
      ]
     },
     "metadata": {
      "needs_background": "light"
     },
     "output_type": "display_data"
    }
   ],
   "source": [
    "sns.barplot(x = 'diabetes', y = 'age', hue = 'smoking', data = df)\n",
    "plt.savefig('dia_age_smo.jpg')"
   ]
  },
  {
   "cell_type": "code",
   "execution_count": 20,
   "id": "67dc9403",
   "metadata": {},
   "outputs": [
    {
     "data": {
      "image/png": "[encoded data removed]",
      "text/plain": [
       "<Figure size 432x288 with 1 Axes>"
      ]
     },
     "metadata": {
      "needs_background": "light"
     },
     "output_type": "display_data"
    }
   ],
   "source": [
    "sns.scatterplot(x = 'creatinine_phosphokinase', y = 'ejection_fraction', hue ='sex', data = df)\n",
    "plt.savefig('numerical.jpg')"
   ]
  },
  {
   "cell_type": "markdown",
   "id": "f8ba431f",
   "metadata": {},
   "source": [
    "#####\n",
    "Appendix 1.2 Advanced Question 1 "
   ]
  },
  {
   "cell_type": "code",
   "execution_count": 22,
   "id": "92508ba4",
   "metadata": {},
   "outputs": [],
   "source": [
    "from sklearn.decomposition import FactorAnalysis \n",
    "import matplotlib.pyplot as plt\n"
   ]
  },
  {
   "cell_type": "code",
   "execution_count": 25,
   "id": "79a06806",
   "metadata": {},
   "outputs": [],
   "source": [
    "FA = FactorAnalysis(n_components =2, rotation = 'varimax')\n",
    "X_trf=FA.fit_transform(df.drop('DEATH_EVENT', axis = 1))"
   ]
  },
  {
   "cell_type": "code",
   "execution_count": 27,
   "id": "d7fc176f",
   "metadata": {},
   "outputs": [
    {
     "data": {
      "image/png": "[encoded data removed]",
      "text/plain": [
       "<Figure size 432x288 with 1 Axes>"
      ]
     },
     "metadata": {
      "needs_background": "light"
     },
     "output_type": "display_data"
    }
   ],
   "source": [
    "c_d = {1: \"blue\", 0:\"red\"}\n",
    "plt.scatter(X_trf[:,0], X_trf[:,1], c = [c_d[i] for i in df['DEATH_EVENT']])\n",
    "plt.title('FactorAnalysis')\n",
    "plt.savefig('FA.jpg')"
   ]
  },
  {
   "cell_type": "markdown",
   "id": "3921a5ce",
   "metadata": {},
   "source": [
    "###\n",
    "Appendix 1.3 Question 2 \n"
   ]
  },
  {
   "cell_type": "code",
   "execution_count": 31,
   "id": "8c1c4496",
   "metadata": {},
   "outputs": [],
   "source": [
    "class Dataset(data.Dataset):\n",
    "    def __init__(self):\n",
    "        train = pd.read_csv('/content/heart_failure_clinical_records_dataset.csv')\n",
    "        train_labels = train['DEATH_EVENT'].values\n",
    "        train = train.drop(\"DEATH_EVENT\",axis=1).values\n",
    "        self.datalist = train\n",
    "        self.labels = train_labels\n",
    "        \n",
    "    def __getitem__(self, index):\n",
    "        return torch.Tensor(self.datalist[index].astype(float)), self.labels[index]\n",
    "    def __len__(self):\n",
    "        return self.datalist.shape[0]"
   ]
  },
  {
   "cell_type": "code",
   "execution_count": 32,
   "id": "3ec27e7c",
   "metadata": {},
   "outputs": [],
   "source": [
    "ds = Dataset()\n",
    "train_size = int(0.7 * len(ds))\n",
    "test_size = len(ds) - train_size\n",
    "train, val = torch.utils.data.random_split(ds, [train_size, test_size])"
   ]
  },
  {
   "cell_type": "code",
   "execution_count": 33,
   "id": "3835c72a",
   "metadata": {},
   "outputs": [],
   "source": [
    "class Model(nn.Module):\n",
    "    def __init__(self):\n",
    "        super().__init__()\n",
    "        self.fc1 = nn.Linear(12, 5)\n",
    "        self.fc2 = nn.Linear(5, 3)\n",
    "        self.fc3 = nn.Linear(3, 1)\n",
    "        \n",
    "    def forward(self, x):\n",
    "        x = x.view(x.shape[0], -1)\n",
    "        \n",
    "        x = F.relu(self.fc1(x))\n",
    "        x = F.relu(self.fc2(x))\n",
    "        x = torch.sigmoid(self.fc3(x))\n",
    "        \n",
    "        return x"
   ]
  },
  {
   "cell_type": "code",
   "execution_count": 34,
   "id": "6b0ba0d5",
   "metadata": {},
   "outputs": [],
   "source": [
    "model = Model()\n",
    "criterion = nn.BCELoss()\n",
    "optimizer = optim.Adam(model.parameters(), lr=0.003)"
   ]
  },
  {
   "cell_type": "code",
   "execution_count": 35,
   "id": "2a087a34",
   "metadata": {},
   "outputs": [],
   "source": [
    "train_loader = torch.utils.data.DataLoader( dataset = train , batch_size= 32 , shuffle = True)\n",
    "val_loader = torch.utils.data.DataLoader( dataset = val , batch_size= 8)\n"
   ]
  },
  {
   "cell_type": "code",
   "execution_count": 37,
   "id": "674a2262",
   "metadata": {},
   "outputs": [
    {
     "name": "stdout",
     "output_type": "stream",
     "text": [
      "71.11111111111111\n",
      "71.11111111111111\n",
      "71.11111111111111\n",
      "71.11111111111111\n",
      "71.11111111111111\n",
      "71.11111111111111\n",
      "71.11111111111111\n",
      "71.11111111111111\n",
      "71.11111111111111\n",
      "71.11111111111111\n",
      "71.11111111111111\n",
      "71.11111111111111\n",
      "71.11111111111111\n",
      "71.11111111111111\n",
      "71.11111111111111\n",
      "71.11111111111111\n",
      "71.11111111111111\n",
      "71.11111111111111\n",
      "71.11111111111111\n",
      "71.11111111111111\n",
      "71.11111111111111\n",
      "71.11111111111111\n",
      "71.11111111111111\n",
      "71.11111111111111\n",
      "71.11111111111111\n",
      "71.11111111111111\n",
      "71.11111111111111\n",
      "71.11111111111111\n",
      "71.11111111111111\n",
      "71.11111111111111\n",
      "71.11111111111111\n",
      "71.11111111111111\n",
      "71.11111111111111\n",
      "71.11111111111111\n",
      "71.11111111111111\n",
      "71.11111111111111\n",
      "71.11111111111111\n",
      "71.11111111111111\n",
      "71.11111111111111\n",
      "71.11111111111111\n",
      "71.11111111111111\n",
      "71.11111111111111\n",
      "71.11111111111111\n",
      "71.11111111111111\n",
      "71.11111111111111\n",
      "71.11111111111111\n",
      "71.11111111111111\n",
      "71.11111111111111\n",
      "71.11111111111111\n",
      "71.11111111111111\n",
      "71.11111111111111\n",
      "71.11111111111111\n",
      "71.11111111111111\n",
      "71.11111111111111\n",
      "71.11111111111111\n",
      "71.11111111111111\n",
      "71.11111111111111\n",
      "71.11111111111111\n",
      "71.11111111111111\n",
      "71.11111111111111\n",
      "71.11111111111111\n",
      "71.11111111111111\n",
      "71.11111111111111\n",
      "71.11111111111111\n",
      "71.11111111111111\n",
      "71.11111111111111\n",
      "71.11111111111111\n",
      "71.11111111111111\n",
      "71.11111111111111\n",
      "71.11111111111111\n",
      "71.11111111111111\n",
      "71.11111111111111\n",
      "71.11111111111111\n",
      "71.11111111111111\n",
      "71.11111111111111\n",
      "71.11111111111111\n",
      "71.11111111111111\n",
      "71.11111111111111\n",
      "71.11111111111111\n",
      "71.11111111111111\n",
      "71.11111111111111\n",
      "71.11111111111111\n",
      "71.11111111111111\n",
      "71.11111111111111\n",
      "71.11111111111111\n",
      "71.11111111111111\n",
      "71.11111111111111\n",
      "71.11111111111111\n",
      "71.11111111111111\n",
      "71.11111111111111\n",
      "71.11111111111111\n",
      "71.11111111111111\n",
      "71.11111111111111\n",
      "71.11111111111111\n",
      "71.11111111111111\n",
      "71.11111111111111\n",
      "71.11111111111111\n",
      "71.11111111111111\n",
      "71.11111111111111\n",
      "71.11111111111111\n",
      "71.11111111111111\n",
      "71.11111111111111\n",
      "71.11111111111111\n",
      "71.11111111111111\n",
      "71.11111111111111\n",
      "71.11111111111111\n",
      "71.11111111111111\n",
      "71.11111111111111\n",
      "71.11111111111111\n",
      "71.11111111111111\n",
      "71.11111111111111\n",
      "71.11111111111111\n",
      "71.11111111111111\n",
      "71.11111111111111\n",
      "71.11111111111111\n",
      "71.11111111111111\n",
      "71.11111111111111\n",
      "71.11111111111111\n",
      "71.11111111111111\n",
      "71.11111111111111\n",
      "71.11111111111111\n",
      "71.11111111111111\n",
      "71.11111111111111\n",
      "71.11111111111111\n",
      "71.11111111111111\n",
      "71.11111111111111\n",
      "71.11111111111111\n",
      "71.11111111111111\n",
      "71.11111111111111\n",
      "71.11111111111111\n",
      "71.11111111111111\n",
      "71.11111111111111\n",
      "71.11111111111111\n",
      "71.11111111111111\n",
      "71.11111111111111\n",
      "71.11111111111111\n",
      "71.11111111111111\n",
      "71.11111111111111\n",
      "71.11111111111111\n",
      "71.11111111111111\n",
      "71.11111111111111\n",
      "71.11111111111111\n",
      "71.11111111111111\n",
      "71.11111111111111\n",
      "71.11111111111111\n",
      "71.11111111111111\n",
      "71.11111111111111\n",
      "71.11111111111111\n",
      "71.11111111111111\n",
      "71.11111111111111\n",
      "71.11111111111111\n",
      "71.11111111111111\n",
      "71.11111111111111\n",
      "71.11111111111111\n",
      "71.11111111111111\n",
      "71.11111111111111\n",
      "71.11111111111111\n",
      "71.11111111111111\n",
      "71.11111111111111\n",
      "71.11111111111111\n",
      "71.11111111111111\n",
      "71.11111111111111\n",
      "71.11111111111111\n",
      "71.11111111111111\n",
      "71.11111111111111\n",
      "71.11111111111111\n",
      "71.11111111111111\n",
      "71.11111111111111\n",
      "71.11111111111111\n",
      "71.11111111111111\n",
      "71.11111111111111\n",
      "71.11111111111111\n",
      "71.11111111111111\n",
      "71.11111111111111\n",
      "71.11111111111111\n",
      "71.11111111111111\n",
      "71.11111111111111\n",
      "71.11111111111111\n",
      "71.11111111111111\n",
      "71.11111111111111\n",
      "71.11111111111111\n",
      "71.11111111111111\n",
      "71.11111111111111\n",
      "71.11111111111111\n",
      "71.11111111111111\n",
      "71.11111111111111\n",
      "71.11111111111111\n",
      "71.11111111111111\n",
      "71.11111111111111\n",
      "71.11111111111111\n",
      "71.11111111111111\n",
      "71.11111111111111\n",
      "71.11111111111111\n",
      "71.11111111111111\n",
      "71.11111111111111\n",
      "71.11111111111111\n",
      "71.11111111111111\n",
      "71.11111111111111\n",
      "71.11111111111111\n",
      "71.11111111111111\n"
     ]
    }
   ],
   "source": [
    "for epoch in range(200):\n",
    "  run_train_loss = 0.0\n",
    "  run_val_loss = 0.0\n",
    "  running_acc = 0.0\n",
    "  total_size = 0\n",
    "  best_acc = 0\n",
    "  for i, (feature, labels) in enumerate(train_loader):\n",
    "      images = feature\n",
    "      labels = torch.Tensor(np.array(labels).astype(float))\n",
    "      \n",
    "      optimizer.zero_grad()\n",
    "      outputs = model(images)\n",
    "      #print(outputs, labels)\n",
    "      loss = criterion(outputs.T[0], labels.T)\n",
    "      loss.backward()\n",
    "      optimizer.step()\n",
    "      run_train_loss += loss\n",
    "  with torch.no_grad():\n",
    "    model.eval()\n",
    "    s = 0\n",
    "    for j , (val_f, val_labels) in enumerate(val_loader):\n",
    "      s += len(val_labels)\n",
    "      val_labels = torch.Tensor(np.array(val_labels).astype(float))\n",
    "      pred = model(val_f)\n",
    "      running_acc += (pred.T[0] == val_labels).sum().item()\n",
    "    print((running_acc / s) * 100)"
   ]
  },
  {
   "cell_type": "markdown",
   "id": "5fb2fe30",
   "metadata": {},
   "source": [
    "### 1.4 advanced question 2"
   ]
  },
  {
   "cell_type": "code",
   "execution_count": 38,
   "id": "96f1ef48",
   "metadata": {},
   "outputs": [],
   "source": [
    "class Model(nn.Module):\n",
    "    def __init__(self):\n",
    "        super().__init__()\n",
    "        self.fc1 = nn.Linear(12, 24)\n",
    "        self.fc2 = nn.Linear(24, 1)\n",
    "        \n",
    "    def forward(self, x):\n",
    "        x = x.view(x.shape[0], -1)\n",
    "        \n",
    "        x = F.relu(self.fc1(x))\n",
    "        x = torch.sigmoid(self.fc2(x))\n",
    "        \n",
    "        return x\n"
   ]
  },
  {
   "cell_type": "code",
   "execution_count": 39,
   "id": "1cddb139",
   "metadata": {},
   "outputs": [],
   "source": [
    "modelex = Model()\n",
    "criterion = nn.BCELoss()\n",
    "optimizer = optim.SGD(model.parameters(), lr=0.003)"
   ]
  },
  {
   "cell_type": "code",
   "execution_count": 40,
   "id": "ca1d43e8",
   "metadata": {},
   "outputs": [
    {
     "name": "stdout",
     "output_type": "stream",
     "text": [
      "0.7111111111111111\n"
     ]
    }
   ],
   "source": [
    "preds = []\n",
    "val_l = []\n",
    "for val_f, val_labels in val_loader:\n",
    "  for la in val_labels:\n",
    "    val_l.append(la.item())\n",
    "  pred = model(val_f).T\n",
    "  l = [i.item() for i in pred[0][:]]\n",
    "  for p in l:\n",
    "    preds.append(p)\n",
    "print(accuracy_score(val_l, preds))"
   ]
  },
  {
   "cell_type": "code",
   "execution_count": 41,
   "id": "42ef40f5",
   "metadata": {},
   "outputs": [
    {
     "data": {
      "image/png": "[encoded data removed]",
      "text/plain": [
       "<Figure size 432x288 with 2 Axes>"
      ]
     },
     "metadata": {
      "needs_background": "light"
     },
     "output_type": "display_data"
    }
   ],
   "source": [
    "cm = ConfusionMatrixDisplay(confusion_matrix = confusion_matrix(val_l, preds), display_labels = [False, True])\n",
    "cm.plot()\n",
    "plt.savefig('cmstr.jpg')\n",
    "plt.show()"
   ]
  },
  {
   "cell_type": "code",
   "execution_count": null,
   "id": "c82fa6f5",
   "metadata": {},
   "outputs": [],
   "source": []
  }
 ],
 "metadata": {
  "kernelspec": {
   "display_name": "Python 3 (ipykernel)",
   "language": "python",
   "name": "python3"
  },
  "language_info": {
   "codemirror_mode": {
    "name": "ipython",
    "version": 3
   },
   "file_extension": ".py",
   "mimetype": "text/x-python",
   "name": "python",
   "nbconvert_exporter": "python",
   "pygments_lexer": "ipython3",
   "version": "3.9.7"
  }
 },
 "nbformat": 4,
 "nbformat_minor": 5
}
